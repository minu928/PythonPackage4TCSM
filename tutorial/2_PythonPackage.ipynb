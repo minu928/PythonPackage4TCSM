{
 "cells": [
  {
   "cell_type": "markdown",
   "metadata": {},
   "source": [
    "# Python이 패키지를 인식하는 방법\n",
    "\n",
    "<img src=https://pythongeeks.org/wp-content/uploads/2021/12/structure-of-packages.webp>\n",
    "\n",
    "- '\\_\\_ **init** \\_\\_'.py가 존재해야, 해당 폴더를 **패키지**로 인식한다.\n",
    "- 해당 폴더에 존재하는 .py 파일은 **module**이라고 부른다.\n"
   ]
  },
  {
   "cell_type": "markdown",
   "metadata": {},
   "source": [
    "# 패키지 호출 순서\n",
    "\n",
    "1. <code> package.__ init __.py </code> 을 가장 먼저 호출을 한다.\n",
    "2. 호출된 <code> package.__ init __.py </code>는 해당 모듈내에 있는 행동을 한다.\n",
    "\n",
    "- 패키지 내의 모든 모듈은 load (or import) 하지 않는 이상 자동으로 import 되지 않는다.\n"
   ]
  },
  {
   "cell_type": "markdown",
   "metadata": {},
   "source": [
    "# 패키지 규칙\n",
    "## Package Naming Rules\n",
    "참조: https://peps.python.org/pep-0423/\n",
    "\n",
    "## Python Naming Rules\n",
    "1. \"_\"를 너무 많이 쓰지 말 것..\n",
    "2. \"Package\" 이름은 lower로 할 것. \"_\"(underscore)로 정말 필요하면 연결할 것. (일반적으로 한단어)\n",
    "3. \"Module\" 이름 역시 동일\n",
    "4. \"Class\"는 PascalCase로 작성할 것.\n",
    "5. 왠만한 것들 다 lower와 _를 활용 -> Snake-Like\n",
    "\n",
    "<img src=\"https://khalilstemmler.com/img/blog/camel-snake-pascal-case/camel-case-snake-case-pascal-case.png\" width=600>"
   ]
  },
  {
   "cell_type": "markdown",
   "metadata": {},
   "source": []
  }
 ],
 "metadata": {
  "kernelspec": {
   "display_name": "dpmd",
   "language": "python",
   "name": "python3"
  },
  "language_info": {
   "codemirror_mode": {
    "name": "ipython",
    "version": 3
   },
   "file_extension": ".py",
   "mimetype": "text/x-python",
   "name": "python",
   "nbconvert_exporter": "python",
   "pygments_lexer": "ipython3",
   "version": "3.8.3"
  }
 },
 "nbformat": 4,
 "nbformat_minor": 2
}
