{
 "cells": [
  {
   "cell_type": "markdown",
   "metadata": {},
   "source": [
    "## 0. Git and Github\n",
    "\n",
    "Git은 버전을 관리하기 위한 툴이다.  \n",
    "Github는 이러한 Git을 공개하기 위한 플랫폼이다.\n",
    "\n",
    "<img src=https://i.stack.imgur.com/nWYnQ.png/>\n"
   ]
  },
  {
   "cell_type": "markdown",
   "metadata": {},
   "source": [
    "## 1. 변경된 내용을 업로드 할때\n",
    "\n",
    "1. git add something\n",
    "2. git commit -m \"what to change\"\n",
    "3. git push\n"
   ]
  },
  {
   "cell_type": "markdown",
   "metadata": {},
   "source": [
    "## 2. 변경된 내용을 다운로드할 때\n",
    "\n",
    "- git fetch\n",
    "- git pull\n"
   ]
  },
  {
   "cell_type": "markdown",
   "metadata": {},
   "source": [
    "## 3. Branch 바꾸기\n",
    "\n",
    "- 목적: github에서 main을 직접적으로 건드는 행위는 협업과정에서 많은 충돌을 발생시킬 수 있다.\n",
    "- 예시: A가 READMD.md에 버전을 2.4.1로 바꾸고, B가 이를 모르고 이전에 존재했던 READMD.md를 2.4.3으로 바꾸면.. 충돌\n",
    "\n",
    "### 3.1. Branch 확인\n",
    "\n",
    "- git checkout\n",
    "\n",
    "### 3.2. Branch 만들기\n",
    "\n",
    "- git checkout -b branch_name\n",
    "\n",
    "Q. 이때 만들어진 branch는 위 네가지 장소중 어디까지 존재할 까?\n"
   ]
  },
  {
   "cell_type": "markdown",
   "metadata": {},
   "source": [
    "## 4. 실습\n",
    "\n",
    "- remote: https://github.com\n",
    "- local: 아무대나\n",
    "- name: 아무거나\n",
    "\n",
    "- 내꺼: https://github.com/minu928/PythonPackage4TCSM\n"
   ]
  }
 ],
 "metadata": {
  "kernelspec": {
   "display_name": "dpmd",
   "language": "python",
   "name": "python3"
  },
  "language_info": {
   "codemirror_mode": {
    "name": "ipython",
    "version": 3
   },
   "file_extension": ".py",
   "mimetype": "text/x-python",
   "name": "python",
   "nbconvert_exporter": "python",
   "pygments_lexer": "ipython3",
   "version": "3.8.3"
  }
 },
 "nbformat": 4,
 "nbformat_minor": 2
}
