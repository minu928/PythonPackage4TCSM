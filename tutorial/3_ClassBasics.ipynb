{
 "cells": [
  {
   "cell_type": "markdown",
   "metadata": {},
   "source": [
    "# 1. Class Basics"
   ]
  },
  {
   "cell_type": "markdown",
   "metadata": {},
   "source": [
    "- OOP (Object Oriented Programing)\n",
    "    - 3요소\n",
    "        - 캡슐화 (Encapsulation)\n",
    "            : Private, Public, Protected ...\n",
    "        - 상속   (Inheritance)\n",
    "            : 부모의 자산을 자식을 물려받는다.\n",
    "        - 다형성 (Polymorphism)\n",
    "            : 하나의 객체로 다양한 일을 할 수 있게 열어둔다.\n",
    "    - 5원칙\n",
    "        - Single Responsibility Principle\n",
    "        - Open Closed Principle\n",
    "        - Liskov Substituition Principle\n",
    "        - Interface Segregation Principle\n",
    "        - Dependency Inversion Principle\n",
    "\n",
    "-> 책: '객체지향의 사실과 오해'에서는 이러한 원칙에 얽매이지 말고 자유롭게 작성하라.  \n",
    "-> 그럼에도 불구하고, 3요소를 생각하면 보다 깔끔한 프로그램이 작성되는 듯하다."
   ]
  },
  {
   "cell_type": "markdown",
   "metadata": {},
   "source": [
    "## 1.1. __\\__init__\\__ vs. __\\__new__\\__"
   ]
  },
  {
   "cell_type": "markdown",
   "metadata": {},
   "source": [
    "\n",
    "**앞으로, 거의 대부분 아니 모두 \\__new\\__는 건들지 않는다.** 모든 시작은 __\\__init__\\__으로 시작합니다.\n",
    "\n",
    "\\__int\\__을 통해서 우리는 클래스의 인자를 받고, 이를 처리할 것입니다.\n",
    "\n",
    " 모든 객체 지향의 언어는 Java, C++과 같은 compile 언어를 기반으로 작성되어 왔기에,  \n",
    "파이썬을 위한 단어는 제한적입니다.\n",
    "\n",
    " 하지만 굳이 정의를 하면, \\__new\\__가 생성자이고, \\__init\\__는 초기화 입니다.\n",
    "\n",
    "참조: https://dev.to/delta456/python-init-is-not-a-constructor-12on"
   ]
  },
  {
   "cell_type": "markdown",
   "metadata": {},
   "source": [
    "### 1.1.1. self란 무엇인가."
   ]
  },
  {
   "cell_type": "code",
   "execution_count": 3,
   "metadata": {},
   "outputs": [
    {
     "name": "stdout",
     "output_type": "stream",
     "text": [
      "<__main__.Atoms object at 0x14619810f4f0>\n",
      "<__main__.Atoms object at 0x14619315e580>\n",
      "<__main__.Atoms object at 0x146193197fd0>\n"
     ]
    }
   ],
   "source": [
    "# 기본 골자: 모든 클래스의 시작은 다음과 같이 초기화로 시작합니다.\n",
    "class Atoms(object):\n",
    "    def __init__(self) -> None:\n",
    "        print(self)\n",
    "\n",
    "\n",
    "H = Atoms()\n",
    "H = Atoms()\n",
    "H = Atoms()"
   ]
  },
  {
   "cell_type": "markdown",
   "metadata": {},
   "source": [
    "### 1.1.2. Argument를 받는 방법."
   ]
  },
  {
   "cell_type": "code",
   "execution_count": 12,
   "metadata": {},
   "outputs": [
    {
     "name": "stdout",
     "output_type": "stream",
     "text": [
      "<__main__.Atoms object at 0x146192f10be0>'s Atomic Weight: 1.0\n",
      "<__main__.Atoms object at 0x146192f7ffd0>'s Atomic Weight: 2.0\n"
     ]
    }
   ],
   "source": [
    "# 클래스의 인자를 초기화 하는 방법은 다음과 같습니다.\n",
    "class Atoms(object):\n",
    "    def __init__(self, atomic_weight: float) -> None:\n",
    "        self.atomic_weight = atomic_weight\n",
    "\n",
    "\n",
    "H = Atoms(atomic_weight=1.000)\n",
    "print(f\"{H}'s Atomic Weight: {H.atomic_weight}\")\n",
    "H = Atoms(atomic_weight=2.000)\n",
    "print(f\"{H}'s Atomic Weight: {H.atomic_weight}\")"
   ]
  },
  {
   "cell_type": "markdown",
   "metadata": {},
   "source": [
    "### 1.1.3. Keyword Argument를 받는 방법."
   ]
  },
  {
   "cell_type": "code",
   "execution_count": 15,
   "metadata": {},
   "outputs": [
    {
     "data": {
      "text/plain": [
       "1.0"
      ]
     },
     "execution_count": 15,
     "metadata": {},
     "output_type": "execute_result"
    }
   ],
   "source": [
    "class Atoms(object):\n",
    "    def __init__(self, atomic_weight: float, density: float = 1.0) -> None:\n",
    "        self.atomic_weight = atomic_weight\n",
    "        self.density = density\n",
    "\n",
    "\n",
    "H = Atoms(1.0)\n",
    "H.density"
   ]
  },
  {
   "cell_type": "markdown",
   "metadata": {},
   "source": [
    "### 추가사항. (몰라두 됨)\n",
    "\n",
    "Quiz 1: 다음 Script에서 Hellow Init은 출력이 될 것인가?\n"
   ]
  },
  {
   "cell_type": "code",
   "execution_count": 20,
   "metadata": {},
   "outputs": [
    {
     "name": "stdout",
     "output_type": "stream",
     "text": [
      "<class '__main__.Atoms'>\n",
      "()\n",
      "{'mw': 1000}\n",
      "Hello Init\n"
     ]
    }
   ],
   "source": [
    "class Atoms(object):\n",
    "    def __new__(cls, *args, **kwargs):\n",
    "        print(cls)\n",
    "        print(args)\n",
    "        print(kwargs)\n",
    "\n",
    "    def __init__(self, mw: float) -> None:\n",
    "        print(\"Hello Init\")\n",
    "        self.mw = mw\n",
    "\n",
    "\n",
    "atom = Atoms(mw=1000)"
   ]
  },
  {
   "cell_type": "code",
   "execution_count": null,
   "metadata": {},
   "outputs": [],
   "source": [
    "class Atoms(object):\n",
    "    # 우리는 해당 구문을 구현함으로싸, 해당 함수를 override하게 된다.\n",
    "    # 만약에 피 상속 객체가 해당 함수를 구현하지 않았으면, overload한다.\n",
    "    def __new__(cls, *args, **kwargs):\n",
    "        print(cls)\n",
    "        print(args)\n",
    "        print(kwargs)\n",
    "        obj = super().__new__(cls)\n",
    "        return obj\n",
    "\n",
    "    def __init__(self, mw: float) -> None:\n",
    "        print(\"Hello Init\")\n",
    "        self.mw = mw\n",
    "\n",
    "\n",
    "atom = Atoms(mw=1000)"
   ]
  },
  {
   "cell_type": "markdown",
   "metadata": {},
   "source": [
    "## 1.2. Meaning of UnderScore"
   ]
  },
  {
   "cell_type": "markdown",
   "metadata": {},
   "source": [
    "\n",
    "- \\_ : Protected Variable\n",
    "    - 해당 객체와 하위 상속 객체가 해당 값을 사용하는 것.  \n",
    "- \\__: Private Variable\n",
    "    - 해당 객체만 사용 하는 값.\n",
    "\n",
    "하지만 파이썬은 인터프리트 언어이기에, 실제로는 불가능함~."
   ]
  },
  {
   "cell_type": "code",
   "execution_count": 23,
   "metadata": {},
   "outputs": [],
   "source": [
    "import numpy as np"
   ]
  },
  {
   "cell_type": "markdown",
   "metadata": {},
   "source": [
    "## 1.3. Magic Method of Class"
   ]
  },
  {
   "cell_type": "markdown",
   "metadata": {},
   "source": [
    "\n",
    "https://tibetsandfox.tistory.com/42\n",
    "\n",
    "- \\__init\\__, \\__new\\__ 역시도 magic method이다.  \n",
    "- 객체의 유연한 기능을 만들기 위해 파이썬에 내장된 함수들이다.  \n",
    "- \\__를 사용함으로써, 해당 객체만이 이러한 값을 사용하도록 지정하였다.  "
   ]
  },
  {
   "cell_type": "code",
   "execution_count": 42,
   "metadata": {},
   "outputs": [
    {
     "name": "stdout",
     "output_type": "stream",
     "text": [
      "len(system) -> 3\n",
      "str(system) -> HHO\n",
      "system[0] -> H\n",
      "system[0] -> H\n",
      "system[0] -> O\n"
     ]
    },
    {
     "ename": "IndexError",
     "evalue": "tuple index out of range",
     "output_type": "error",
     "traceback": [
      "\u001b[0;31m---------------------------------------------------------------------------\u001b[0m",
      "\u001b[0;31mIndexError\u001b[0m                                Traceback (most recent call last)",
      "Cell \u001b[0;32mIn[42], line 30\u001b[0m\n\u001b[1;32m     28\u001b[0m \u001b[38;5;28mprint\u001b[39m(\u001b[38;5;124mf\u001b[39m\u001b[38;5;124m\"\u001b[39m\u001b[38;5;124msystem[0] -> \u001b[39m\u001b[38;5;132;01m{\u001b[39;00msystem[\u001b[38;5;241m1\u001b[39m]\u001b[38;5;241m.\u001b[39melement\u001b[38;5;132;01m}\u001b[39;00m\u001b[38;5;124m\"\u001b[39m)\n\u001b[1;32m     29\u001b[0m \u001b[38;5;28mprint\u001b[39m(\u001b[38;5;124mf\u001b[39m\u001b[38;5;124m\"\u001b[39m\u001b[38;5;124msystem[0] -> \u001b[39m\u001b[38;5;132;01m{\u001b[39;00msystem[\u001b[38;5;241m2\u001b[39m]\u001b[38;5;241m.\u001b[39melement\u001b[38;5;132;01m}\u001b[39;00m\u001b[38;5;124m\"\u001b[39m)\n\u001b[0;32m---> 30\u001b[0m \u001b[38;5;28mprint\u001b[39m(\u001b[38;5;124mf\u001b[39m\u001b[38;5;124m\"\u001b[39m\u001b[38;5;124msystem[0] -> \u001b[39m\u001b[38;5;132;01m{\u001b[39;00msystem[\u001b[38;5;241m3\u001b[39m]\u001b[38;5;241m.\u001b[39melement\u001b[38;5;132;01m}\u001b[39;00m\u001b[38;5;124m\"\u001b[39m)\n",
      "Cell \u001b[0;32mIn[42], line 18\u001b[0m, in \u001b[0;36mSystem.__getitem__\u001b[0;34m(self, idx)\u001b[0m\n\u001b[1;32m     17\u001b[0m \u001b[38;5;28;01mdef\u001b[39;00m \u001b[38;5;21m__getitem__\u001b[39m(\u001b[38;5;28mself\u001b[39m, idx) \u001b[38;5;241m-\u001b[39m\u001b[38;5;241m>\u001b[39m \u001b[38;5;28mtype\u001b[39m(Atoms):\n\u001b[0;32m---> 18\u001b[0m     \u001b[38;5;28;01mreturn\u001b[39;00m \u001b[38;5;28;43mself\u001b[39;49m\u001b[38;5;241;43m.\u001b[39;49m\u001b[43matoms\u001b[49m\u001b[43m[\u001b[49m\u001b[43midx\u001b[49m\u001b[43m]\u001b[49m\n",
      "\u001b[0;31mIndexError\u001b[0m: tuple index out of range"
     ]
    }
   ],
   "source": [
    "class Atoms(object):\n",
    "    def __init__(self, weight: float, element: str) -> None:\n",
    "        self.weight = weight\n",
    "        self.element = element\n",
    "\n",
    "\n",
    "class System(object):\n",
    "    def __init__(self, *atoms: type(Atoms)) -> None:\n",
    "        self.atoms = atoms\n",
    "\n",
    "    def __len__(self):\n",
    "        return len(self.atoms)\n",
    "\n",
    "    def __str__(self) -> str:\n",
    "        return \"\".join((atom.element for atom in self.atoms))\n",
    "\n",
    "    def __getitem__(self, idx) -> type(Atoms):\n",
    "        return self.atoms[idx]\n",
    "\n",
    "\n",
    "H = Atoms(weight=1.00, element=\"H\")\n",
    "O = Atoms(weight=15.99, element=\"O\")\n",
    "\n",
    "system = System(H, H, O)\n",
    "print(f\"len(system) -> {len(system)}\")\n",
    "print(f\"str(system) -> {str(system)}\")\n",
    "print(f\"system[0] -> {system[0].element}\")\n",
    "print(f\"system[0] -> {system[1].element}\")\n",
    "print(f\"system[0] -> {system[2].element}\")\n",
    "print(f\"system[0] -> {system[3].element}\")"
   ]
  },
  {
   "cell_type": "markdown",
   "metadata": {},
   "source": [
    "## 1.4. Methods of Class"
   ]
  },
  {
   "cell_type": "markdown",
   "metadata": {},
   "source": [
    "class에서 method를 구현하는 과정을 통해서, 해당 인스턴스가 어떠한 행위를 할 수 있는 지를 결정할 수 있다.  \n",
    "작성의 흐름은 <code> minwoo = Human(); minwoo.eat(); minwoo.run() </code> 처럼 작성하는 것이 자연스럽다.  \n",
    "따라서, 주어(instance) 동사(function) 목적어(argument) 로 작성하면 읽기 쉬워진다.  \n",
    "<code> minwoo.eat(rice) </code> 이러한 기능들을 구현하는 과정을 본 절에서 이야기하고자 한다."
   ]
  },
  {
   "cell_type": "markdown",
   "metadata": {},
   "source": [
    "### 1.4.1. instance Method\n",
    "\n",
    "첫 argument는 관행상 self로 적는다.  \n",
    "여기서 <code>self</code>는 해당 객체 자신이며, 객체 내부의 무언가에 접근할때,  \n",
    "이 <code>self</code>를 통해 접근할 수 있다."
   ]
  },
  {
   "cell_type": "code",
   "execution_count": 3,
   "metadata": {},
   "outputs": [
    {
     "data": {
      "text/plain": [
       "17.990000000000002"
      ]
     },
     "execution_count": 3,
     "metadata": {},
     "output_type": "execute_result"
    }
   ],
   "source": [
    "class System(object):\n",
    "    def __init__(self, *atoms: type(Atoms)) -> None:\n",
    "        self.atoms = atoms\n",
    "    \n",
    "    def calc_weight(self) -> float:\n",
    "        weight = 0\n",
    "        for atom in self.atoms:\n",
    "            weight = weight + atom.weight\n",
    "        return float(weight)\n",
    "    \n",
    "    \n",
    "H = Atoms(weight=1.00, element=\"H\")\n",
    "O = Atoms(weight=15.99, element=\"O\")\n",
    "\n",
    "system = System(H, H, O)\n",
    "system.calc_weight()"
   ]
  },
  {
   "cell_type": "markdown",
   "metadata": {},
   "source": [
    "### 1.4.2. Static Method\n",
    "\n",
    "그렇다면, 클래스 내에 속한 모든 함수들은 이러한  self가 필요한 것들로 구성되어 있는가?  \n",
    "그렇지 않는 경우들도 많을 것이다.  \n",
    "\n",
    "이렇듯 static method는 그 이름에서 알 수 있듯이, self에 접근할 필요 없는 해당 class의 하위 함수라고  \n",
    "이해하면 보다 쉽다."
   ]
  },
  {
   "cell_type": "code",
   "execution_count": 12,
   "metadata": {},
   "outputs": [
    {
     "name": "stdout",
     "output_type": "stream",
     "text": [
      "Hello System\n",
      "what: 213\n",
      "Bye~\n"
     ]
    },
    {
     "ename": "TypeError",
     "evalue": "calc_weight() missing 1 required positional argument: 'self'",
     "output_type": "error",
     "traceback": [
      "\u001b[0;31m---------------------------------------------------------------------------\u001b[0m",
      "\u001b[0;31mTypeError\u001b[0m                                 Traceback (most recent call last)",
      "Cell \u001b[0;32mIn[12], line 16\u001b[0m\n\u001b[1;32m     13\u001b[0m         \u001b[38;5;28mprint\u001b[39m(\u001b[38;5;124mf\u001b[39m\u001b[38;5;124m\"\u001b[39m\u001b[38;5;124mHello System\u001b[39m\u001b[38;5;130;01m\\n\u001b[39;00m\u001b[38;5;124mwhat: \u001b[39m\u001b[38;5;132;01m{\u001b[39;00mwhat\u001b[38;5;132;01m}\u001b[39;00m\u001b[38;5;130;01m\\n\u001b[39;00m\u001b[38;5;124mBye~\u001b[39m\u001b[38;5;124m\"\u001b[39m)\n\u001b[1;32m     15\u001b[0m System\u001b[38;5;241m.\u001b[39mprintf(\u001b[38;5;241m213\u001b[39m)\n\u001b[0;32m---> 16\u001b[0m \u001b[43mSystem\u001b[49m\u001b[38;5;241;43m.\u001b[39;49m\u001b[43mcalc_weight\u001b[49m\u001b[43m(\u001b[49m\u001b[43m)\u001b[49m\n",
      "\u001b[0;31mTypeError\u001b[0m: calc_weight() missing 1 required positional argument: 'self'"
     ]
    }
   ],
   "source": [
    "class System(object):\n",
    "    def __init__(self, *atoms: type(Atoms)) -> None:\n",
    "        self.atoms = atoms\n",
    "    \n",
    "    def calc_weight(self) -> float:\n",
    "        weight = 0\n",
    "        for atom in self.atoms:\n",
    "            weight = weight + atom.weight\n",
    "        return float(weight)\n",
    "    \n",
    "    @staticmethod\n",
    "    def printf(what):\n",
    "        print(f\"Hello System\\nwhat: {what}\\nBye~\")\n",
    "\n",
    "System.printf(213)\n",
    "System.calc_weight()"
   ]
  },
  {
   "cell_type": "code",
   "execution_count": 10,
   "metadata": {},
   "outputs": [
    {
     "name": "stdout",
     "output_type": "stream",
     "text": [
      "Hello System\n",
      "what: 여기서도 됩니다.\n",
      "Bye~\n"
     ]
    }
   ],
   "source": [
    "H = Atoms(weight=1.00, element=\"H\")\n",
    "O = Atoms(weight=15.99, element=\"O\")\n",
    "\n",
    "system = System(H, H, O)\n",
    "system.calc_weight()\n",
    "system.printf(\"여기서도 됩니다.\")"
   ]
  },
  {
   "cell_type": "markdown",
   "metadata": {},
   "source": [
    "### 1.4.3. Class Method\n",
    "\n",
    "<code> @classmethod </code> 데코레이터를 사용하여 클래스에서 method를 선언하면 된다.  \n",
    "첫번째 argument는 <code> cls </code>를 사용하며, class의 attribute에 접근할 수 있게 된다."
   ]
  },
  {
   "cell_type": "code",
   "execution_count": 19,
   "metadata": {},
   "outputs": [
    {
     "name": "stdout",
     "output_type": "stream",
     "text": [
      "cls.__name__: System\n",
      "Hello System\n",
      "what: hello~\n",
      "Bye~\n"
     ]
    },
    {
     "data": {
      "text/plain": [
       "17.990000000000002"
      ]
     },
     "execution_count": 19,
     "metadata": {},
     "output_type": "execute_result"
    }
   ],
   "source": [
    "class System(object):\n",
    "    def __init__(self, *atoms: type(Atoms)) -> None:\n",
    "        self.atoms = atoms\n",
    "    \n",
    "    def calc_weight(self) -> float:\n",
    "        weight = 0\n",
    "        for atom in self.atoms:\n",
    "            weight = weight + atom.weight\n",
    "        return float(weight)\n",
    "    \n",
    "    @staticmethod\n",
    "    def printf(what):\n",
    "        print(f\"Hello System\\nwhat: {what}\\nBye~\")\n",
    "        \n",
    "    @classmethod\n",
    "    def add(cls, *atoms):\n",
    "        print(f\"cls.__name__: {cls.__name__}\")\n",
    "        return cls(*atoms)\n",
    "        \n",
    "h2o = System.add(H, H, O)\n",
    "h2o.printf(\"hello~\")\n",
    "h2o.calc_weight()"
   ]
  },
  {
   "cell_type": "markdown",
   "metadata": {},
   "source": [
    "## 1.5. Getter, Setter"
   ]
  },
  {
   "cell_type": "markdown",
   "metadata": {},
   "source": [
    "- 목적  \n",
    "    Python과 같은 현대 언어들에서는 굳이 Getter와 Setter를 만들지 않아도, 모든 attribute에 접근 가능하다.  \n",
    "    하지만 유지 관리의 측면과 해당 객체가 가지는 주요한 attribute라면 만들어 주는 것이 보기에 좋다.\n",
    "\n",
    "- 방법  \n",
    "    - Getter: <code> @property </code>라는 데코레이터를 활용한다.\n",
    "    - Setter: <code> @asf.setter </code>라는 데코레이터를 활용한다."
   ]
  },
  {
   "cell_type": "code",
   "execution_count": 27,
   "metadata": {},
   "outputs": [],
   "source": [
    "# 기존의 코드에서도 weight에 대해서 직접적으로 접근이 가능하다.\n",
    "class Atoms(object):\n",
    "    def __init__(self, weight: float, element: str) -> None:\n",
    "        self.weight = weight\n",
    "        self.element = element\n",
    "\n",
    "# * 하지만 아래와 같이 getter setter를 만들어 주면 보다 보기가 쉬워 진다.   \n",
    "class Atoms(object):\n",
    "    def __init__(self, weight: float, element: str) -> None:\n",
    "        self._weight = weight\n",
    "        self._element = element\n",
    "    \n",
    "    @property\n",
    "    def weight(self):\n",
    "        print(\"Getter에서 나옵니다.\")\n",
    "        return self._weight\n",
    "    \n",
    "    @weight.setter\n",
    "    def weight(self, weight):\n",
    "        print(\"Setter에서 나옵니다.\")\n",
    "        self._weight = weight"
   ]
  },
  {
   "cell_type": "code",
   "execution_count": 29,
   "metadata": {},
   "outputs": [
    {
     "name": "stdout",
     "output_type": "stream",
     "text": [
      "Setter에서 나옵니다.\n",
      "Getter에서 나옵니다.\n",
      "10\n"
     ]
    }
   ],
   "source": [
    "H = Atoms(weight=1.00, element=\"H\")\n",
    "H.weight = 10\n",
    "print(H.weight)"
   ]
  },
  {
   "cell_type": "markdown",
   "metadata": {},
   "source": [
    "# Excercise 1. 코끼리를 냉장고에 넣자"
   ]
  },
  {
   "cell_type": "markdown",
   "metadata": {},
   "source": [
    "- 목적  \n",
    "    1. '냉장고'객체를 통해 stack, array, que등에 대한 이해를 높인다.\n",
    "    2. '코끼리'객체를 통해 type 역시 하나의 객체임을 이해한다.\n",
    "\n",
    "- 구현할 것.\n",
    "    1. 냉장고 객체\n",
    "        - array나 stack의 형태로 구현할 것.\n",
    "        - property: max_size, size, contents ...\n",
    "        - function: put, display, pop ...\n",
    "    2. 코끼리 객체\n",
    "        - 하나의 객체로 만들 것.\n",
    "        - property: 코끼리에게 있을 만한 요소.\n",
    "        - function: 코끼리에게 있을 만한 요소."
   ]
  },
  {
   "cell_type": "code",
   "execution_count": null,
   "metadata": {},
   "outputs": [],
   "source": [
    "class Refrigerator(object):\n",
    "    def __init__(self, max_size: int = 4) -> None:\n",
    "        pass\n",
    "    def put(self): ...\n",
    "    def diplay(self): ...\n",
    "    def pop(self):..."
   ]
  },
  {
   "cell_type": "code",
   "execution_count": null,
   "metadata": {},
   "outputs": [],
   "source": [
    "class Elephant(object):\n",
    "    def __init__(self) -> None:\n",
    "        pass"
   ]
  },
  {
   "cell_type": "code",
   "execution_count": null,
   "metadata": {},
   "outputs": [],
   "source": [
    "my_refrigerator = Refrigerator(max_size=4)\n",
    "elephant_1 = Elephant()\n",
    "my_refrigerator.put(elephant_1)\n",
    "elephant_2 = Elephant()\n",
    "my_refrigerator.put(elephant_2)\n",
    "elephant_3 = Elephant()\n",
    "my_refrigerator.put(elephant_3)\n",
    "elephant_4 = Elephant()\n",
    "my_refrigerator.put(elephant_4)\n",
    "elephant_5 = Elephant()\n",
    "my_refrigerator.put(elephant_5)"
   ]
  }
 ],
 "metadata": {
  "kernelspec": {
   "display_name": "dpmd",
   "language": "python",
   "name": "python3"
  },
  "language_info": {
   "codemirror_mode": {
    "name": "ipython",
    "version": 3
   },
   "file_extension": ".py",
   "mimetype": "text/x-python",
   "name": "python",
   "nbconvert_exporter": "python",
   "pygments_lexer": "ipython3",
   "version": "3.8.3"
  }
 },
 "nbformat": 4,
 "nbformat_minor": 2
}
