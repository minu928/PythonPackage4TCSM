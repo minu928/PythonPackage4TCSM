{
 "cells": [
  {
   "cell_type": "markdown",
   "metadata": {},
   "source": [
    "# 1. Class Basics"
   ]
  },
  {
   "cell_type": "markdown",
   "metadata": {},
   "source": [
    "## 1.1. __\\__init__\\__ vs. __\\__new__\\__\n",
    "\n",
    "**앞으로, 거의 대부분 아니 모두 \\__new\\__는 건들지 않는다.** 모든 시작은 __\\__init__\\__으로 시작합니다.\n",
    "\n",
    "\\__int\\__을 통해서 우리는 클래스의 인자를 받고, 이를 처리할 것입니다.\n",
    "\n",
    " 모든 객체 지향의 언어는 Java, C++과 같은 compile 언어를 기반으로 작성되어 왔기에,  \n",
    "파이썬을 위한 단어는 제한적입니다.\n",
    "\n",
    " 하지만 굳이 정의를 하면, \\__new\\__가 생성자이고, \\__init\\__는 초기화 입니다.\n",
    "\n",
    "참조: https://dev.to/delta456/python-init-is-not-a-constructor-12on"
   ]
  },
  {
   "cell_type": "markdown",
   "metadata": {},
   "source": [
    "### 1.1.1. self란 무엇인가."
   ]
  },
  {
   "cell_type": "code",
   "execution_count": 3,
   "metadata": {},
   "outputs": [
    {
     "name": "stdout",
     "output_type": "stream",
     "text": [
      "<__main__.Atoms object at 0x14619810f4f0>\n",
      "<__main__.Atoms object at 0x14619315e580>\n",
      "<__main__.Atoms object at 0x146193197fd0>\n"
     ]
    }
   ],
   "source": [
    "# 기본 골자: 모든 클래스의 시작은 다음과 같이 초기화로 시작합니다.\n",
    "class Atoms(object):\n",
    "    def __init__(self) -> None:\n",
    "        print(self)\n",
    "\n",
    "\n",
    "H = Atoms()\n",
    "H = Atoms()\n",
    "H = Atoms()"
   ]
  },
  {
   "cell_type": "markdown",
   "metadata": {},
   "source": [
    "### 1.1.2. Argument를 받는 방법."
   ]
  },
  {
   "cell_type": "code",
   "execution_count": 12,
   "metadata": {},
   "outputs": [
    {
     "name": "stdout",
     "output_type": "stream",
     "text": [
      "<__main__.Atoms object at 0x146192f10be0>'s Atomic Weight: 1.0\n",
      "<__main__.Atoms object at 0x146192f7ffd0>'s Atomic Weight: 2.0\n"
     ]
    }
   ],
   "source": [
    "# 클래스의 인자를 초기화 하는 방법은 다음과 같습니다.\n",
    "class Atoms(object):\n",
    "    def __init__(self, atomic_weight: float) -> None:\n",
    "        self.atomic_weight = atomic_weight\n",
    "\n",
    "\n",
    "H = Atoms(atomic_weight=1.000)\n",
    "print(f\"{H}'s Atomic Weight: {H.atomic_weight}\")\n",
    "H = Atoms(atomic_weight=2.000)\n",
    "print(f\"{H}'s Atomic Weight: {H.atomic_weight}\")"
   ]
  },
  {
   "cell_type": "markdown",
   "metadata": {},
   "source": [
    "### 1.1.3. Keyword Argument를 받는 방법."
   ]
  },
  {
   "cell_type": "code",
   "execution_count": 15,
   "metadata": {},
   "outputs": [
    {
     "data": {
      "text/plain": [
       "1.0"
      ]
     },
     "execution_count": 15,
     "metadata": {},
     "output_type": "execute_result"
    }
   ],
   "source": [
    "class Atoms(object):\n",
    "    def __init__(self, atomic_weight: float, density: float = 1.0) -> None:\n",
    "        self.atomic_weight = atomic_weight\n",
    "        self.density = density\n",
    "\n",
    "\n",
    "H = Atoms(1.0)\n",
    "H.density"
   ]
  },
  {
   "cell_type": "markdown",
   "metadata": {},
   "source": [
    "### 추가사항. (몰라두 됨)\n",
    "\n",
    "Quiz 1: 다음 Script에서 Hellow Init은 출력이 될 것인가?\n"
   ]
  },
  {
   "cell_type": "code",
   "execution_count": 20,
   "metadata": {},
   "outputs": [
    {
     "name": "stdout",
     "output_type": "stream",
     "text": [
      "<class '__main__.Atoms'>\n",
      "()\n",
      "{'mw': 1000}\n",
      "Hello Init\n"
     ]
    }
   ],
   "source": [
    "class Atoms(object):\n",
    "    def __new__(cls, *args, **kwargs):\n",
    "        print(cls)\n",
    "        print(args)\n",
    "        print(kwargs)\n",
    "\n",
    "    def __init__(self, mw: float) -> None:\n",
    "        print(\"Hello Init\")\n",
    "        self.mw = mw\n",
    "\n",
    "\n",
    "atom = Atoms(mw=1000)"
   ]
  },
  {
   "cell_type": "code",
   "execution_count": null,
   "metadata": {},
   "outputs": [],
   "source": [
    "class Atoms(object):\n",
    "    # 우리는 해당 구문을 구현함으로싸, 해당 함수를 override하게 된다.\n",
    "    # 만약에 피 상속 객체가 해당 함수를 구현하지 않았으면, overload한다.\n",
    "    def __new__(cls, *args, **kwargs):\n",
    "        print(cls)\n",
    "        print(args)\n",
    "        print(kwargs)\n",
    "        obj = super().__new__(cls)\n",
    "        return obj\n",
    "\n",
    "    def __init__(self, mw: float) -> None:\n",
    "        print(\"Hello Init\")\n",
    "        self.mw = mw\n",
    "\n",
    "\n",
    "atom = Atoms(mw=1000)"
   ]
  },
  {
   "cell_type": "markdown",
   "metadata": {},
   "source": [
    "## 1.2. Meaning of UnderScore\n",
    "\n",
    "- \\_ : Protected Variable\n",
    "    - 해당 객체와 하위 상속 객체가 해당 값을 사용하는 것.  \n",
    "- \\__: Private Variable\n",
    "    - 해당 객체만 사용 하는 값.\n",
    "\n",
    "하지만 파이썬은 인터프리트 언어이기에, 실제로는 불가능함~."
   ]
  },
  {
   "cell_type": "code",
   "execution_count": 23,
   "metadata": {},
   "outputs": [],
   "source": [
    "import numpy as np"
   ]
  },
  {
   "cell_type": "markdown",
   "metadata": {},
   "source": [
    "## 1.3. Magic Method of Class\n",
    "\n",
    "https://tibetsandfox.tistory.com/42\n",
    "\n",
    "- \\__init\\__, \\__new\\__ 역시도 magic method이다.  \n",
    "- 객체의 유연한 기능을 만들기 위해 파이썬에 내장된 함수들이다.  \n",
    "- \\__를 사용함으로써, 해당 객체만이 이러한 값을 사용하도록 지정하였다.  "
   ]
  },
  {
   "cell_type": "code",
   "execution_count": 42,
   "metadata": {},
   "outputs": [
    {
     "name": "stdout",
     "output_type": "stream",
     "text": [
      "len(system) -> 3\n",
      "str(system) -> HHO\n",
      "system[0] -> H\n",
      "system[0] -> H\n",
      "system[0] -> O\n"
     ]
    },
    {
     "ename": "IndexError",
     "evalue": "tuple index out of range",
     "output_type": "error",
     "traceback": [
      "\u001b[0;31m---------------------------------------------------------------------------\u001b[0m",
      "\u001b[0;31mIndexError\u001b[0m                                Traceback (most recent call last)",
      "Cell \u001b[0;32mIn[42], line 30\u001b[0m\n\u001b[1;32m     28\u001b[0m \u001b[38;5;28mprint\u001b[39m(\u001b[38;5;124mf\u001b[39m\u001b[38;5;124m\"\u001b[39m\u001b[38;5;124msystem[0] -> \u001b[39m\u001b[38;5;132;01m{\u001b[39;00msystem[\u001b[38;5;241m1\u001b[39m]\u001b[38;5;241m.\u001b[39melement\u001b[38;5;132;01m}\u001b[39;00m\u001b[38;5;124m\"\u001b[39m)\n\u001b[1;32m     29\u001b[0m \u001b[38;5;28mprint\u001b[39m(\u001b[38;5;124mf\u001b[39m\u001b[38;5;124m\"\u001b[39m\u001b[38;5;124msystem[0] -> \u001b[39m\u001b[38;5;132;01m{\u001b[39;00msystem[\u001b[38;5;241m2\u001b[39m]\u001b[38;5;241m.\u001b[39melement\u001b[38;5;132;01m}\u001b[39;00m\u001b[38;5;124m\"\u001b[39m)\n\u001b[0;32m---> 30\u001b[0m \u001b[38;5;28mprint\u001b[39m(\u001b[38;5;124mf\u001b[39m\u001b[38;5;124m\"\u001b[39m\u001b[38;5;124msystem[0] -> \u001b[39m\u001b[38;5;132;01m{\u001b[39;00msystem[\u001b[38;5;241m3\u001b[39m]\u001b[38;5;241m.\u001b[39melement\u001b[38;5;132;01m}\u001b[39;00m\u001b[38;5;124m\"\u001b[39m)\n",
      "Cell \u001b[0;32mIn[42], line 18\u001b[0m, in \u001b[0;36mSystem.__getitem__\u001b[0;34m(self, idx)\u001b[0m\n\u001b[1;32m     17\u001b[0m \u001b[38;5;28;01mdef\u001b[39;00m \u001b[38;5;21m__getitem__\u001b[39m(\u001b[38;5;28mself\u001b[39m, idx) \u001b[38;5;241m-\u001b[39m\u001b[38;5;241m>\u001b[39m \u001b[38;5;28mtype\u001b[39m(Atoms):\n\u001b[0;32m---> 18\u001b[0m     \u001b[38;5;28;01mreturn\u001b[39;00m \u001b[38;5;28;43mself\u001b[39;49m\u001b[38;5;241;43m.\u001b[39;49m\u001b[43matoms\u001b[49m\u001b[43m[\u001b[49m\u001b[43midx\u001b[49m\u001b[43m]\u001b[49m\n",
      "\u001b[0;31mIndexError\u001b[0m: tuple index out of range"
     ]
    }
   ],
   "source": [
    "class Atoms(object):\n",
    "    def __init__(self, weight: float, element: str) -> None:\n",
    "        self.weight = weight\n",
    "        self.element = element\n",
    "\n",
    "\n",
    "class System(object):\n",
    "    def __init__(self, *atoms: type(Atoms)) -> None:\n",
    "        self.atoms = atoms\n",
    "\n",
    "    def __len__(self):\n",
    "        return len(self.atoms)\n",
    "\n",
    "    def __str__(self) -> str:\n",
    "        return \"\".join((atom.element for atom in self.atoms))\n",
    "\n",
    "    def __getitem__(self, idx) -> type(Atoms):\n",
    "        return self.atoms[idx]\n",
    "\n",
    "\n",
    "H = Atoms(weight=1.00, element=\"H\")\n",
    "O = Atoms(weight=15.99, element=\"O\")\n",
    "\n",
    "system = System(H, H, O)\n",
    "print(f\"len(system) -> {len(system)}\")\n",
    "print(f\"str(system) -> {str(system)}\")\n",
    "print(f\"system[0] -> {system[0].element}\")\n",
    "print(f\"system[0] -> {system[1].element}\")\n",
    "print(f\"system[0] -> {system[2].element}\")\n",
    "print(f\"system[0] -> {system[3].element}\")"
   ]
  },
  {
   "cell_type": "markdown",
   "metadata": {},
   "source": [
    "## 1.4. Methods of Class"
   ]
  },
  {
   "cell_type": "markdown",
   "metadata": {},
   "source": [
    "## 1.5. Getter, Setter"
   ]
  },
  {
   "cell_type": "markdown",
   "metadata": {},
   "source": []
  }
 ],
 "metadata": {
  "kernelspec": {
   "display_name": "dpmd",
   "language": "python",
   "name": "python3"
  },
  "language_info": {
   "codemirror_mode": {
    "name": "ipython",
    "version": 3
   },
   "file_extension": ".py",
   "mimetype": "text/x-python",
   "name": "python",
   "nbconvert_exporter": "python",
   "pygments_lexer": "ipython3",
   "version": "3.8.3"
  }
 },
 "nbformat": 4,
 "nbformat_minor": 2
}
